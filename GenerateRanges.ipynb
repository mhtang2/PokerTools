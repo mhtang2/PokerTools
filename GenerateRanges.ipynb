{
 "cells": [
  {
   "cell_type": "code",
   "execution_count": 4,
   "metadata": {},
   "outputs": [],
   "source": [
    "import numpy\n",
    "from os import listdir\n",
    "import os\n",
    "import string\n",
    "import json"
   ]
  },
  {
   "cell_type": "code",
   "execution_count": 14,
   "metadata": {},
   "outputs": [],
   "source": [
    "def find_bet_dir(dirs):\n",
    "    for dir in dirs:\n",
    "        if dir[0] in string.digits:\n",
    "            return dir"
   ]
  },
  {
   "cell_type": "markdown",
   "metadata": {},
   "source": [
    "### RFI"
   ]
  },
  {
   "cell_type": "code",
   "execution_count": 28,
   "metadata": {},
   "outputs": [],
   "source": [
    "rfiobj = {\n",
    "  \"version\": 2,\n",
    "  \"name\": \"ranges\",\n",
    "  \"data\": [\n",
    "    {\n",
    "      \"path\": [\n",
    "        \"RFI\"\n",
    "      ],\n",
    "      \"isGroup\": True\n",
    "    },\n",
    "    {\n",
    "      \"path\": [\n",
    "        \"RFI\",\n",
    "        \"Random range\"\n",
    "      ],\n",
    "      \"isGroup\": False,\n",
    "      \"value\": \"88-77:0.5,Q7s,J7s-J6s,T8s,T6s-T5s,98s,96s-94s,85s-84s,73s+\"\n",
    "    }\n",
    "  ]\n",
    "}"
   ]
  },
  {
   "cell_type": "code",
   "execution_count": 29,
   "metadata": {},
   "outputs": [],
   "source": [
    "datadir = \"./GTOWizard_Scraped_Ranges/Cash6m50z100bbGeneral/\"\n",
    "positions = ['BTN','CO','HJ','SB','UTG']\n",
    "for position in positions:\n",
    "    dir = datadir+position+\"/\"\n",
    "    dir += find_bet_dir(listdir(dir)) +\"/\"\n",
    "    dir += listdir(dir)[0] + '/'\n",
    "    dir += 'call/'\n",
    "    dir += f'{position}.txt'\n",
    "    newobj = {\n",
    "        \"path\":[\n",
    "            \"RFI\",\n",
    "            position\n",
    "        ],\n",
    "        \"isGroup\": False,\n",
    "        \"value\": \"\"\n",
    "    }\n",
    "    with open(dir) as fp:\n",
    "        newobj['value']=fp.readline()\n",
    "    rfiobj['data'].append(newobj)\n",
    "    "
   ]
  },
  {
   "cell_type": "code",
   "execution_count": 32,
   "metadata": {},
   "outputs": [],
   "source": [
    "with open(\"RFI.json\",\"w\") as fp:\n",
    "    json.dump(rfiobj,fp,indent=4)"
   ]
  },
  {
   "cell_type": "markdown",
   "metadata": {},
   "source": [
    "### Calling RFI"
   ]
  },
  {
   "cell_type": "code",
   "execution_count": 2,
   "metadata": {},
   "outputs": [],
   "source": [
    "obj = {\n",
    "  \"version\": 2,\n",
    "  \"name\": \"ranges\",\n",
    "  \"data\": [\n",
    "    {\n",
    "      \"path\": [\n",
    "        \"Calling RFI\"\n",
    "      ],\n",
    "      \"isGroup\": True\n",
    "    },\n",
    "    {\n",
    "      \"path\": [\n",
    "        \"Calling RFI\",\n",
    "        \"Random range\"\n",
    "      ],\n",
    "      \"isGroup\": False,\n",
    "      \"value\": \"88-77:0.5,Q7s,J7s-J6s,T8s,T6s-T5s,98s,96s-94s,85s-84s,73s+\"\n",
    "    }\n",
    "  ]\n",
    "}"
   ]
  },
  {
   "cell_type": "code",
   "execution_count": 5,
   "metadata": {},
   "outputs": [],
   "source": [
    "with open(\"Calling-RFI.json\",\"w\") as fp:\n",
    "    json.dump(obj,fp,indent=4)"
   ]
  },
  {
   "cell_type": "markdown",
   "metadata": {},
   "source": []
  }
 ],
 "metadata": {
  "kernelspec": {
   "display_name": "Python 3",
   "language": "python",
   "name": "python3"
  },
  "language_info": {
   "codemirror_mode": {
    "name": "ipython",
    "version": 3
   },
   "file_extension": ".py",
   "mimetype": "text/x-python",
   "name": "python",
   "nbconvert_exporter": "python",
   "pygments_lexer": "ipython3",
   "version": "3.11.2"
  }
 },
 "nbformat": 4,
 "nbformat_minor": 2
}
