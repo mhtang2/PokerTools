{
 "cells": [
  {
   "cell_type": "code",
   "execution_count": 40,
   "metadata": {},
   "outputs": [],
   "source": [
    "import numpy\n",
    "from os.path import join as pjoin\n",
    "import os\n",
    "import string\n",
    "import json"
   ]
  },
  {
   "cell_type": "code",
   "execution_count": 41,
   "metadata": {},
   "outputs": [],
   "source": [
    "def find_bet_dir(parent):\n",
    "    dirs = ldir(parent)\n",
    "    for dir in dirs:\n",
    "        if dir[0] in string.digits:\n",
    "            return dir\n",
    "\n",
    "def ldir(parent):\n",
    "    filtered_contents = [item for item in os.listdir(parent) if item != \".DS_Store\"]\n",
    "    return filtered_contents\n",
    "\n",
    "\n",
    "datadir = \"./GTOWizard_Scraped_Ranges/Cash6m50z100bbGeneral/\"\n",
    "rfi_positions = ['UTG', 'HJ', 'CO', 'BTN', 'SB']\n",
    "all_positions = ['UTG', 'HJ', 'CO', 'BTN', 'SB', 'BB']"
   ]
  },
  {
   "cell_type": "markdown",
   "metadata": {},
   "source": [
    "### RFI"
   ]
  },
  {
   "cell_type": "code",
   "execution_count": 42,
   "metadata": {},
   "outputs": [],
   "source": [
    "rfiobj = {\n",
    "  \"version\": 2,\n",
    "  \"name\": \"ranges\",\n",
    "  \"data\": [\n",
    "    {\n",
    "      \"path\": [\n",
    "        \"RFI\"\n",
    "      ],\n",
    "      \"isGroup\": True\n",
    "    }\n",
    "    # ,\n",
    "    # {\n",
    "    #   \"path\": [\n",
    "    #     \"RFI\",\n",
    "    #     \"Random range\"\n",
    "    #   ],\n",
    "    #   \"isGroup\": False,\n",
    "    #   \"value\": \"88-77:0.5,Q7s,J7s-J6s,T8s,T6s-T5s,98s,96s-94s,85s-84s,73s+\"\n",
    "    # }\n",
    "  ]\n",
    "}"
   ]
  },
  {
   "cell_type": "code",
   "execution_count": 43,
   "metadata": {},
   "outputs": [],
   "source": [
    "for rfi_pos in rfi_positions:\n",
    "    dir = pjoin(datadir, rfi_pos)\n",
    "    dir = pjoin(dir, find_bet_dir(dir))\n",
    "    pth = pjoin(dir, ldir(dir)[0],'call',f'{rfi_pos}.txt')\n",
    "    newobj = {\n",
    "        \"path\":[\n",
    "            \"RFI\",\n",
    "            rfi_pos\n",
    "        ],\n",
    "        \"isGroup\": False,\n",
    "        \"value\": \"\"\n",
    "    }\n",
    "    with open(pth) as fp:\n",
    "        newobj['value']=fp.readline()\n",
    "    rfiobj['data'].append(newobj)\n",
    "    "
   ]
  },
  {
   "cell_type": "code",
   "execution_count": 44,
   "metadata": {},
   "outputs": [],
   "source": [
    "with open(\"RFI.json\",\"w\") as fp:\n",
    "    json.dump(rfiobj,fp,indent=4)"
   ]
  },
  {
   "cell_type": "markdown",
   "metadata": {},
   "source": [
    "### Calling RFI"
   ]
  },
  {
   "cell_type": "code",
   "execution_count": 45,
   "metadata": {},
   "outputs": [],
   "source": [
    "callRFI_obj = {\n",
    "  \"version\": 2,\n",
    "  \"name\": \"ranges\",\n",
    "  \"data\": [\n",
    "    {\n",
    "      \"path\": [\n",
    "        \"Calling RFI\"\n",
    "      ],\n",
    "      \"isGroup\": True\n",
    "    }\n",
    "  ]\n",
    "}\n",
    "for pos in all_positions:\n",
    "    callRFI_obj['data'].append({\n",
    "      \"path\": [\n",
    "        \"Calling RFI\",\n",
    "        pos\n",
    "      ],\n",
    "      \"isGroup\": True\n",
    "    })"
   ]
  },
  {
   "cell_type": "code",
   "execution_count": 46,
   "metadata": {},
   "outputs": [],
   "source": [
    "for rfi_pos in rfi_positions:\n",
    "    dir_rfi = pjoin(datadir, rfi_pos)\n",
    "    dir = pjoin(dir_rfi, find_bet_dir(dir_rfi))\n",
    "    for call_pos in ldir(dir):\n",
    "        pth = pjoin(dir, call_pos)\n",
    "        if 'call' not in ldir(pth):\n",
    "            continue\n",
    "        pth = pjoin(pth,'call',f'{call_pos}.txt')\n",
    "        newobj = {\n",
    "            \"path\":[\n",
    "                \"Calling RFI\",\n",
    "                call_pos,\n",
    "                rfi_pos\n",
    "            ],\n",
    "            \"isGroup\": False,\n",
    "            \"value\": \"\"\n",
    "        }\n",
    "        with open(pth) as fp:\n",
    "            newobj['value']=fp.readline()\n",
    "        callRFI_obj['data'].append(newobj)\n",
    "    "
   ]
  },
  {
   "cell_type": "code",
   "execution_count": 47,
   "metadata": {},
   "outputs": [],
   "source": [
    "with open(\"Calling-RFI.json\",\"w\") as fp:\n",
    "    json.dump(callRFI_obj,fp,indent=4)"
   ]
  },
  {
   "cell_type": "markdown",
   "metadata": {},
   "source": []
  }
 ],
 "metadata": {
  "kernelspec": {
   "display_name": "Python 3",
   "language": "python",
   "name": "python3"
  },
  "language_info": {
   "codemirror_mode": {
    "name": "ipython",
    "version": 3
   },
   "file_extension": ".py",
   "mimetype": "text/x-python",
   "name": "python",
   "nbconvert_exporter": "python",
   "pygments_lexer": "ipython3",
   "version": "3.12.0"
  }
 },
 "nbformat": 4,
 "nbformat_minor": 2
}
